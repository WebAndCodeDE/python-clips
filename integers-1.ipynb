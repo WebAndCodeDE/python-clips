{
 "metadata": {
  "language_info": {
   "codemirror_mode": {
    "name": "ipython",
    "version": 3
   },
   "file_extension": ".py",
   "mimetype": "text/x-python",
   "name": "python",
   "nbconvert_exporter": "python",
   "pygments_lexer": "ipython3",
   "version": "3.8.5-final"
  },
  "orig_nbformat": 2,
  "kernelspec": {
   "name": "python3",
   "display_name": "Python 3",
   "language": "python"
  }
 },
 "nbformat": 4,
 "nbformat_minor": 2,
 "cells": [
  {
   "cell_type": "code",
   "execution_count": 4,
   "metadata": {},
   "outputs": [
    {
     "output_type": "stream",
     "name": "stdout",
     "text": [
      "<class 'int'>\nEs ist ein integer!\n"
     ]
    }
   ],
   "source": [
    "var1 = 42\n",
    "print(type(var1))\n",
    "\n",
    "if isinstance(var1, int):\n",
    "    print(\"Es ist ein integer!\")\n"
   ]
  },
  {
   "cell_type": "code",
   "execution_count": 5,
   "metadata": {},
   "outputs": [
    {
     "output_type": "stream",
     "name": "stdout",
     "text": [
      "28\n"
     ]
    }
   ],
   "source": [
    "import sys\n",
    "\n",
    "print(sys.getsizeof(var1))"
   ]
  },
  {
   "cell_type": "code",
   "execution_count": 7,
   "metadata": {},
   "outputs": [
    {
     "output_type": "stream",
     "name": "stdout",
     "text": [
      "24\n28\n32\n36\n"
     ]
    }
   ],
   "source": [
    "var2 = 0\n",
    "print(sys.getsizeof(var2))\n",
    "var2 = 1\n",
    "print(sys.getsizeof(var2))\n",
    "var2 = 2**30\n",
    "print(sys.getsizeof(var2))\n",
    "var2 = 2**64\n",
    "print(sys.getsizeof(var2))"
   ]
  },
  {
   "cell_type": "code",
   "execution_count": 8,
   "metadata": {},
   "outputs": [
    {
     "output_type": "stream",
     "name": "stdout",
     "text": [
      "2.0 <class 'float'>\n"
     ]
    }
   ],
   "source": [
    "result = 10 / 5\n",
    "print(result, type(result))"
   ]
  },
  {
   "cell_type": "code",
   "execution_count": 9,
   "metadata": {},
   "outputs": [
    {
     "output_type": "stream",
     "name": "stdout",
     "text": [
      "2 <class 'int'>\n"
     ]
    }
   ],
   "source": [
    "result = 10 // 5\n",
    "print(result, type(result))"
   ]
  },
  {
   "cell_type": "code",
   "execution_count": 16,
   "metadata": {},
   "outputs": [
    {
     "output_type": "stream",
     "name": "stdout",
     "text": [
      "3.0\n"
     ]
    }
   ],
   "source": [
    "result = 10 % 3.5\n",
    "print(result)"
   ]
  },
  {
   "cell_type": "code",
   "execution_count": 3,
   "metadata": {},
   "outputs": [
    {
     "output_type": "stream",
     "name": "stdout",
     "text": [
      "2\n2\n3\n"
     ]
    }
   ],
   "source": [
    "import math\n",
    "\n",
    "var3 = 2.7\n",
    "print(int(var3))\n",
    "print(math.floor(var3))\n",
    "print(math.ceil(var3))\n"
   ]
  },
  {
   "cell_type": "code",
   "execution_count": 4,
   "metadata": {},
   "outputs": [
    {
     "output_type": "stream",
     "name": "stdout",
     "text": [
      "-2\n-3\n-2\n"
     ]
    }
   ],
   "source": [
    "var3 = -2.7\n",
    "print(int(var3))\n",
    "print(math.floor(var3))\n",
    "print(math.ceil(var3))"
   ]
  }
 ]
}