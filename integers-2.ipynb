{
 "metadata": {
  "language_info": {
   "codemirror_mode": {
    "name": "ipython",
    "version": 3
   },
   "file_extension": ".py",
   "mimetype": "text/x-python",
   "name": "python",
   "nbconvert_exporter": "python",
   "pygments_lexer": "ipython3",
   "version": "3.8.5-final"
  },
  "orig_nbformat": 2,
  "kernelspec": {
   "name": "python3",
   "display_name": "Python 3",
   "language": "python"
  }
 },
 "nbformat": 4,
 "nbformat_minor": 2,
 "cells": [
  {
   "cell_type": "code",
   "execution_count": 1,
   "metadata": {},
   "outputs": [
    {
     "output_type": "stream",
     "name": "stdout",
     "text": [
      "42 <class 'int'>\n"
     ]
    }
   ],
   "source": [
    "my_value = 42\n",
    "print(my_value, type(my_value))"
   ]
  },
  {
   "cell_type": "code",
   "execution_count": 2,
   "metadata": {},
   "outputs": [
    {
     "output_type": "stream",
     "name": "stdout",
     "text": [
      "42 <class 'int'>\n"
     ]
    }
   ],
   "source": [
    "my_value2 = int(\"42\", base=10)\n",
    "print(my_value, type(my_value2))"
   ]
  },
  {
   "cell_type": "code",
   "execution_count": 4,
   "metadata": {},
   "outputs": [
    {
     "output_type": "stream",
     "name": "stdout",
     "text": [
      "42 <class 'int'>\n"
     ]
    }
   ],
   "source": [
    "my_value3 = int(\"101010\", base=2)\n",
    "print(my_value3, type(my_value3))"
   ]
  },
  {
   "cell_type": "code",
   "execution_count": 5,
   "metadata": {},
   "outputs": [
    {
     "output_type": "stream",
     "name": "stdout",
     "text": [
      "42 <class 'int'>\n"
     ]
    }
   ],
   "source": [
    "my_value4 = int(\"2A\", base=16)\n",
    "print(my_value4, type(my_value4))"
   ]
  },
  {
   "cell_type": "code",
   "execution_count": 7,
   "metadata": {},
   "outputs": [
    {
     "output_type": "stream",
     "name": "stdout",
     "text": [
      "42 <class 'int'>\n1052688 <class 'int'>\n33288 <class 'int'>\n"
     ]
    }
   ],
   "source": [
    "my_value5 = 0b101010\n",
    "print(my_value5, type(my_value5))\n",
    "my_value6 = 0x101010\n",
    "print(my_value6, type(my_value6))\n",
    "my_value7 = 0o101010\n",
    "print(my_value7, type(my_value7))\n"
   ]
  },
  {
   "cell_type": "code",
   "execution_count": 11,
   "metadata": {},
   "outputs": [
    {
     "output_type": "stream",
     "name": "stdout",
     "text": [
      "0b101010 <class 'str'>\n0o52 <class 'str'>\n0x2a <class 'str'>\n"
     ]
    }
   ],
   "source": [
    "my_value = 42\n",
    "print(bin(my_value), type(bin(my_value)))\n",
    "print(oct(my_value), type(oct(my_value)))\n",
    "print(hex(my_value), type(hex(my_value)))"
   ]
  }
 ]
}